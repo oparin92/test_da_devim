{
 "cells": [
  {
   "cell_type": "markdown",
   "metadata": {},
   "source": [
    "# Тестовое задание Devim (Data Analyst)"
   ]
  },
  {
   "cell_type": "markdown",
   "metadata": {},
   "source": [
    "## Задача\n",
    "\n",
    "В архиве во вложении данные по выдачам кредитов и платежам: плановым и фактическим. Данные актуальны на 08.12.2022. Проанализируйте характер поведения клиентов с точки зрения просрочки: какая динамика просрочки, наблюдается ли рост или снижение?"
   ]
  },
  {
   "cell_type": "markdown",
   "metadata": {},
   "source": [
    "##### Данные в распоряжении:\n",
    "\n",
    "order_id – номер заявки\n",
    "\n",
    "created_at - дата создания заявки\n",
    "\n",
    "put_at - дата выдачи\n",
    "\n",
    "closed_at - дата закрытия\n",
    "\n",
    "issued_sum - сумма выдачи\n",
    "\n",
    "plan_at - дата планового платежа\n",
    "\n",
    "plan_sum_total - сумма планового платежа (накопленным итогом)\n",
    "\n",
    "paid_at - дата фактического платежа\n",
    "\n",
    "paid_sum - сумма фактического платежа"
   ]
  },
  {
   "cell_type": "markdown",
   "metadata": {},
   "source": []
  },
  {
   "cell_type": "code",
   "execution_count": 1,
   "metadata": {},
   "outputs": [
    {
     "name": "stdout",
     "output_type": "stream",
     "text": [
      "������ ������� ��࠭��: 1251\n",
      "Requirement already satisfied: pandas in e:\\python\\lib\\site-packages (2.2.3)\n",
      "Requirement already satisfied: numpy>=1.26.0 in e:\\python\\lib\\site-packages (from pandas) (2.2.3)\n",
      "Requirement already satisfied: python-dateutil>=2.8.2 in c:\\users\\user\\appdata\\roaming\\python\\python313\\site-packages (from pandas) (2.9.0.post0)\n",
      "Requirement already satisfied: pytz>=2020.1 in e:\\python\\lib\\site-packages (from pandas) (2025.1)\n",
      "Requirement already satisfied: tzdata>=2022.7 in e:\\python\\lib\\site-packages (from pandas) (2025.1)\n",
      "Requirement already satisfied: six>=1.5 in c:\\users\\user\\appdata\\roaming\\python\\python313\\site-packages (from python-dateutil>=2.8.2->pandas) (1.17.0)\n"
     ]
    },
    {
     "name": "stderr",
     "output_type": "stream",
     "text": [
      "\n",
      "[notice] A new release of pip is available: 24.3.1 -> 25.0.1\n",
      "[notice] To update, run: python.exe -m pip install --upgrade pip\n"
     ]
    }
   ],
   "source": [
    "! pip install pandas"
   ]
  },
  {
   "cell_type": "code",
   "execution_count": 2,
   "metadata": {},
   "outputs": [
    {
     "name": "stdout",
     "output_type": "stream",
     "text": [
      "������ ������� ��࠭��: 1251\n",
      "Requirement already satisfied: matplotlib in e:\\python\\lib\\site-packages (3.10.1)\n",
      "Requirement already satisfied: contourpy>=1.0.1 in e:\\python\\lib\\site-packages (from matplotlib) (1.3.1)\n",
      "Requirement already satisfied: cycler>=0.10 in e:\\python\\lib\\site-packages (from matplotlib) (0.12.1)\n",
      "Requirement already satisfied: fonttools>=4.22.0 in e:\\python\\lib\\site-packages (from matplotlib) (4.56.0)\n",
      "Requirement already satisfied: kiwisolver>=1.3.1 in e:\\python\\lib\\site-packages (from matplotlib) (1.4.8)\n",
      "Requirement already satisfied: numpy>=1.23 in e:\\python\\lib\\site-packages (from matplotlib) (2.2.3)\n",
      "Requirement already satisfied: packaging>=20.0 in c:\\users\\user\\appdata\\roaming\\python\\python313\\site-packages (from matplotlib) (24.2)\n",
      "Requirement already satisfied: pillow>=8 in e:\\python\\lib\\site-packages (from matplotlib) (11.1.0)\n",
      "Requirement already satisfied: pyparsing>=2.3.1 in e:\\python\\lib\\site-packages (from matplotlib) (3.2.1)\n",
      "Requirement already satisfied: python-dateutil>=2.7 in c:\\users\\user\\appdata\\roaming\\python\\python313\\site-packages (from matplotlib) (2.9.0.post0)\n",
      "Requirement already satisfied: six>=1.5 in c:\\users\\user\\appdata\\roaming\\python\\python313\\site-packages (from python-dateutil>=2.7->matplotlib) (1.17.0)\n"
     ]
    },
    {
     "name": "stderr",
     "output_type": "stream",
     "text": [
      "\n",
      "[notice] A new release of pip is available: 24.3.1 -> 25.0.1\n",
      "[notice] To update, run: python.exe -m pip install --upgrade pip\n"
     ]
    }
   ],
   "source": [
    "!pip install matplotlib"
   ]
  },
  {
   "cell_type": "code",
   "execution_count": 3,
   "metadata": {},
   "outputs": [
    {
     "name": "stdout",
     "output_type": "stream",
     "text": [
      "������ ������� ��࠭��: 1251\n",
      "Requirement already satisfied: seaborn in e:\\python\\lib\\site-packages (0.13.2)\n",
      "Requirement already satisfied: numpy!=1.24.0,>=1.20 in e:\\python\\lib\\site-packages (from seaborn) (2.2.3)\n",
      "Requirement already satisfied: pandas>=1.2 in e:\\python\\lib\\site-packages (from seaborn) (2.2.3)\n",
      "Requirement already satisfied: matplotlib!=3.6.1,>=3.4 in e:\\python\\lib\\site-packages (from seaborn) (3.10.1)\n",
      "Requirement already satisfied: contourpy>=1.0.1 in e:\\python\\lib\\site-packages (from matplotlib!=3.6.1,>=3.4->seaborn) (1.3.1)\n",
      "Requirement already satisfied: cycler>=0.10 in e:\\python\\lib\\site-packages (from matplotlib!=3.6.1,>=3.4->seaborn) (0.12.1)\n",
      "Requirement already satisfied: fonttools>=4.22.0 in e:\\python\\lib\\site-packages (from matplotlib!=3.6.1,>=3.4->seaborn) (4.56.0)\n",
      "Requirement already satisfied: kiwisolver>=1.3.1 in e:\\python\\lib\\site-packages (from matplotlib!=3.6.1,>=3.4->seaborn) (1.4.8)\n",
      "Requirement already satisfied: packaging>=20.0 in c:\\users\\user\\appdata\\roaming\\python\\python313\\site-packages (from matplotlib!=3.6.1,>=3.4->seaborn) (24.2)\n",
      "Requirement already satisfied: pillow>=8 in e:\\python\\lib\\site-packages (from matplotlib!=3.6.1,>=3.4->seaborn) (11.1.0)\n",
      "Requirement already satisfied: pyparsing>=2.3.1 in e:\\python\\lib\\site-packages (from matplotlib!=3.6.1,>=3.4->seaborn) (3.2.1)\n",
      "Requirement already satisfied: python-dateutil>=2.7 in c:\\users\\user\\appdata\\roaming\\python\\python313\\site-packages (from matplotlib!=3.6.1,>=3.4->seaborn) (2.9.0.post0)\n",
      "Requirement already satisfied: pytz>=2020.1 in e:\\python\\lib\\site-packages (from pandas>=1.2->seaborn) (2025.1)\n",
      "Requirement already satisfied: tzdata>=2022.7 in e:\\python\\lib\\site-packages (from pandas>=1.2->seaborn) (2025.1)\n",
      "Requirement already satisfied: six>=1.5 in c:\\users\\user\\appdata\\roaming\\python\\python313\\site-packages (from python-dateutil>=2.7->matplotlib!=3.6.1,>=3.4->seaborn) (1.17.0)\n"
     ]
    },
    {
     "name": "stderr",
     "output_type": "stream",
     "text": [
      "\n",
      "[notice] A new release of pip is available: 24.3.1 -> 25.0.1\n",
      "[notice] To update, run: python.exe -m pip install --upgrade pip\n"
     ]
    }
   ],
   "source": [
    "! pip install seaborn"
   ]
  },
  {
   "cell_type": "code",
   "execution_count": 4,
   "metadata": {},
   "outputs": [
    {
     "name": "stdout",
     "output_type": "stream",
     "text": [
      "������ ������� ��࠭��: 1251\n",
      "Requirement already satisfied: plotly in e:\\python\\lib\\site-packages (6.0.0)\n",
      "Requirement already satisfied: narwhals>=1.15.1 in e:\\python\\lib\\site-packages (from plotly) (1.30.0)\n",
      "Requirement already satisfied: packaging in c:\\users\\user\\appdata\\roaming\\python\\python313\\site-packages (from plotly) (24.2)\n"
     ]
    },
    {
     "name": "stderr",
     "output_type": "stream",
     "text": [
      "\n",
      "[notice] A new release of pip is available: 24.3.1 -> 25.0.1\n",
      "[notice] To update, run: python.exe -m pip install --upgrade pip\n"
     ]
    }
   ],
   "source": [
    "! pip install plotly"
   ]
  },
  {
   "cell_type": "code",
   "execution_count": 5,
   "metadata": {},
   "outputs": [],
   "source": [
    "# импорт библиотек\n",
    "import pandas as pd\n",
    "import numpy as np\n",
    "import matplotlib.pyplot as plt\n",
    "import seaborn as sns\n",
    "import plotly.express as px"
   ]
  },
  {
   "cell_type": "markdown",
   "metadata": {},
   "source": [
    "### Загрузим датасеты и проведем первичный анализ"
   ]
  },
  {
   "cell_type": "code",
   "execution_count": 6,
   "metadata": {},
   "outputs": [],
   "source": [
    "orders = pd.read_csv('orders.csv')\n",
    "payments = pd.read_csv('payments.csv')\n",
    "plan = pd.read_csv('plan.csv')"
   ]
  },
  {
   "cell_type": "code",
   "execution_count": 7,
   "metadata": {},
   "outputs": [],
   "source": [
    "#функция для просмотра первичной информации о датасете\n",
    "def inspection(df):\n",
    "    q = display(df)\n",
    "    a = df.info()\n",
    "    b = df.duplicated().sum()\n",
    "    w = df.isna().sum()\n",
    "    return q, a, print('Количество явных дубликатов:', '\\n', b), print('Количество пропусков в колонках:', '\\n', w)"
   ]
  },
  {
   "cell_type": "markdown",
   "metadata": {},
   "source": [
    "Датасет orders"
   ]
  },
  {
   "cell_type": "code",
   "execution_count": 8,
   "metadata": {},
   "outputs": [
    {
     "data": {
      "text/html": [
       "<div>\n",
       "<style scoped>\n",
       "    .dataframe tbody tr th:only-of-type {\n",
       "        vertical-align: middle;\n",
       "    }\n",
       "\n",
       "    .dataframe tbody tr th {\n",
       "        vertical-align: top;\n",
       "    }\n",
       "\n",
       "    .dataframe thead th {\n",
       "        text-align: right;\n",
       "    }\n",
       "</style>\n",
       "<table border=\"1\" class=\"dataframe\">\n",
       "  <thead>\n",
       "    <tr style=\"text-align: right;\">\n",
       "      <th></th>\n",
       "      <th>order_id</th>\n",
       "      <th>created_at</th>\n",
       "      <th>put_at</th>\n",
       "      <th>closed_at</th>\n",
       "      <th>issued_sum</th>\n",
       "    </tr>\n",
       "  </thead>\n",
       "  <tbody>\n",
       "    <tr>\n",
       "      <th>0</th>\n",
       "      <td>400001732</td>\n",
       "      <td>2022-06-02 00:00:23.997</td>\n",
       "      <td>2022-06-02 20:18:00.180</td>\n",
       "      <td>2022-10-17 11:52:22.190</td>\n",
       "      <td>13600.0</td>\n",
       "    </tr>\n",
       "    <tr>\n",
       "      <th>1</th>\n",
       "      <td>400005838</td>\n",
       "      <td>2022-06-02 00:10:22.997</td>\n",
       "      <td>2022-06-02 15:41:33.267</td>\n",
       "      <td>2022-06-02 17:38:43.917</td>\n",
       "      <td>20000.0</td>\n",
       "    </tr>\n",
       "    <tr>\n",
       "      <th>2</th>\n",
       "      <td>400007915</td>\n",
       "      <td>2022-06-02 00:18:04.000</td>\n",
       "      <td>2022-06-05 19:17:38.547</td>\n",
       "      <td>2022-06-21 21:55:51.877</td>\n",
       "      <td>5820.0</td>\n",
       "    </tr>\n",
       "    <tr>\n",
       "      <th>3</th>\n",
       "      <td>400008952</td>\n",
       "      <td>2022-06-02 00:22:07.000</td>\n",
       "      <td>2022-06-03 14:25:18.033</td>\n",
       "      <td>2022-07-12 10:47:46.307</td>\n",
       "      <td>9000.0</td>\n",
       "    </tr>\n",
       "    <tr>\n",
       "      <th>4</th>\n",
       "      <td>400009027</td>\n",
       "      <td>2022-06-02 00:25:39.000</td>\n",
       "      <td>2022-06-02 00:40:40.320</td>\n",
       "      <td>2022-06-22 14:15:07.423</td>\n",
       "      <td>5000.0</td>\n",
       "    </tr>\n",
       "    <tr>\n",
       "      <th>...</th>\n",
       "      <td>...</td>\n",
       "      <td>...</td>\n",
       "      <td>...</td>\n",
       "      <td>...</td>\n",
       "      <td>...</td>\n",
       "    </tr>\n",
       "    <tr>\n",
       "      <th>55743</th>\n",
       "      <td>495174013</td>\n",
       "      <td>2022-08-31 23:29:32.000</td>\n",
       "      <td>2022-09-01 00:07:26.307</td>\n",
       "      <td>NaN</td>\n",
       "      <td>9500.0</td>\n",
       "    </tr>\n",
       "    <tr>\n",
       "      <th>55744</th>\n",
       "      <td>495174505</td>\n",
       "      <td>2022-08-31 23:41:57.997</td>\n",
       "      <td>2022-09-05 17:51:19.003</td>\n",
       "      <td>2022-09-16 18:36:09.857</td>\n",
       "      <td>14930.0</td>\n",
       "    </tr>\n",
       "    <tr>\n",
       "      <th>55745</th>\n",
       "      <td>495175322</td>\n",
       "      <td>2022-08-31 23:46:04.997</td>\n",
       "      <td>2022-09-01 00:03:52.010</td>\n",
       "      <td>2022-09-09 21:08:18.970</td>\n",
       "      <td>4000.0</td>\n",
       "    </tr>\n",
       "    <tr>\n",
       "      <th>55746</th>\n",
       "      <td>495176080</td>\n",
       "      <td>2022-08-31 23:47:20.997</td>\n",
       "      <td>2022-08-31 23:49:03.027</td>\n",
       "      <td>2022-09-12 00:58:57.037</td>\n",
       "      <td>5000.0</td>\n",
       "    </tr>\n",
       "    <tr>\n",
       "      <th>55747</th>\n",
       "      <td>495177509</td>\n",
       "      <td>2022-08-31 23:49:42.997</td>\n",
       "      <td>2022-09-01 05:50:06.663</td>\n",
       "      <td>NaN</td>\n",
       "      <td>27130.0</td>\n",
       "    </tr>\n",
       "  </tbody>\n",
       "</table>\n",
       "<p>55748 rows × 5 columns</p>\n",
       "</div>"
      ],
      "text/plain": [
       "        order_id               created_at                   put_at  \\\n",
       "0      400001732  2022-06-02 00:00:23.997  2022-06-02 20:18:00.180   \n",
       "1      400005838  2022-06-02 00:10:22.997  2022-06-02 15:41:33.267   \n",
       "2      400007915  2022-06-02 00:18:04.000  2022-06-05 19:17:38.547   \n",
       "3      400008952  2022-06-02 00:22:07.000  2022-06-03 14:25:18.033   \n",
       "4      400009027  2022-06-02 00:25:39.000  2022-06-02 00:40:40.320   \n",
       "...          ...                      ...                      ...   \n",
       "55743  495174013  2022-08-31 23:29:32.000  2022-09-01 00:07:26.307   \n",
       "55744  495174505  2022-08-31 23:41:57.997  2022-09-05 17:51:19.003   \n",
       "55745  495175322  2022-08-31 23:46:04.997  2022-09-01 00:03:52.010   \n",
       "55746  495176080  2022-08-31 23:47:20.997  2022-08-31 23:49:03.027   \n",
       "55747  495177509  2022-08-31 23:49:42.997  2022-09-01 05:50:06.663   \n",
       "\n",
       "                     closed_at  issued_sum  \n",
       "0      2022-10-17 11:52:22.190     13600.0  \n",
       "1      2022-06-02 17:38:43.917     20000.0  \n",
       "2      2022-06-21 21:55:51.877      5820.0  \n",
       "3      2022-07-12 10:47:46.307      9000.0  \n",
       "4      2022-06-22 14:15:07.423      5000.0  \n",
       "...                        ...         ...  \n",
       "55743                      NaN      9500.0  \n",
       "55744  2022-09-16 18:36:09.857     14930.0  \n",
       "55745  2022-09-09 21:08:18.970      4000.0  \n",
       "55746  2022-09-12 00:58:57.037      5000.0  \n",
       "55747                      NaN     27130.0  \n",
       "\n",
       "[55748 rows x 5 columns]"
      ]
     },
     "metadata": {},
     "output_type": "display_data"
    },
    {
     "name": "stdout",
     "output_type": "stream",
     "text": [
      "<class 'pandas.core.frame.DataFrame'>\n",
      "RangeIndex: 55748 entries, 0 to 55747\n",
      "Data columns (total 5 columns):\n",
      " #   Column      Non-Null Count  Dtype  \n",
      "---  ------      --------------  -----  \n",
      " 0   order_id    55748 non-null  int64  \n",
      " 1   created_at  55748 non-null  object \n",
      " 2   put_at      55748 non-null  object \n",
      " 3   closed_at   46472 non-null  object \n",
      " 4   issued_sum  55748 non-null  float64\n",
      "dtypes: float64(1), int64(1), object(3)\n",
      "memory usage: 2.1+ MB\n",
      "Количество явных дубликатов: \n",
      " 0\n",
      "Количество пропусков в колонках: \n",
      " order_id         0\n",
      "created_at       0\n",
      "put_at           0\n",
      "closed_at     9276\n",
      "issued_sum       0\n",
      "dtype: int64\n"
     ]
    },
    {
     "data": {
      "text/plain": [
       "(None, None, None, None)"
      ]
     },
     "execution_count": 8,
     "metadata": {},
     "output_type": "execute_result"
    }
   ],
   "source": [
    "inspection(orders)"
   ]
  },
  {
   "cell_type": "code",
   "execution_count": 9,
   "metadata": {},
   "outputs": [
    {
     "data": {
      "text/plain": [
       "array([13600., 20000.,  5820.,  9000.,  5000., 14600.,  9500., 10000.,\n",
       "        5430.,  3000.,  2000.,  3450.,  4070., 13200.,  7000.,  4000.,\n",
       "        8140.,  6790., 14930.,  6850., 10850., 12210.,  8000., 16070.,\n",
       "       10220., 16900.,  2920.,  1720., 13570.,  1000., 15000., 16280.,\n",
       "        8740.,  8500.,  6000., 11680., 13000.,  2720., 11000., 25770.,\n",
       "        5150.,  4380., 28570., 12000., 17520.,  7290., 20350., 11900.,\n",
       "       10200., 24430., 18000., 22970., 17640., 14000., 27130., 21550.,\n",
       "       19000., 16000., 20180., 18850., 21700., 17000., 27210., 24370.,\n",
       "        6250., 23090.,  2390., 12700., 15300.,  2570.])"
      ]
     },
     "execution_count": 9,
     "metadata": {},
     "output_type": "execute_result"
    }
   ],
   "source": [
    "orders['issued_sum']. unique()"
   ]
  },
  {
   "cell_type": "markdown",
   "metadata": {},
   "source": [
    "Проверим наличие дубликатов в колонке order_id"
   ]
  },
  {
   "cell_type": "code",
   "execution_count": 10,
   "metadata": {},
   "outputs": [
    {
     "name": "stdout",
     "output_type": "stream",
     "text": [
      "Количество дубликатов в колонке order_id: 0\n"
     ]
    }
   ],
   "source": [
    "print('Количество дубликатов в колонке order_id:', orders['order_id'].duplicated().sum())"
   ]
  },
  {
   "cell_type": "markdown",
   "metadata": {},
   "source": [
    "В датасете orders  содержит информацию о датах открытия, даты выдачи, закрытия и сумме кредита. Имеем 55748 строк, 5 колонок.\n",
    "\n",
    "Дубликатов не обнаружено. Имеем колонки created_at, put_at, closed_at у которых неверно указан тип данных, изменим его на datetime.\n",
    "\n",
    "В колонке issued_sum можем изменить тип на int, так как в колонке только целые значения.\n",
    "\n",
    "Имеем пропуски в колонке closed_at, связано с тем что клиент не закрыл еще кредит.\n"
   ]
  },
  {
   "cell_type": "markdown",
   "metadata": {},
   "source": [
    "Датасет payments"
   ]
  },
  {
   "cell_type": "code",
   "execution_count": 11,
   "metadata": {},
   "outputs": [
    {
     "data": {
      "text/html": [
       "<div>\n",
       "<style scoped>\n",
       "    .dataframe tbody tr th:only-of-type {\n",
       "        vertical-align: middle;\n",
       "    }\n",
       "\n",
       "    .dataframe tbody tr th {\n",
       "        vertical-align: top;\n",
       "    }\n",
       "\n",
       "    .dataframe thead th {\n",
       "        text-align: right;\n",
       "    }\n",
       "</style>\n",
       "<table border=\"1\" class=\"dataframe\">\n",
       "  <thead>\n",
       "    <tr style=\"text-align: right;\">\n",
       "      <th></th>\n",
       "      <th>order_id</th>\n",
       "      <th>paid_at</th>\n",
       "      <th>paid_sum</th>\n",
       "    </tr>\n",
       "  </thead>\n",
       "  <tbody>\n",
       "    <tr>\n",
       "      <th>0</th>\n",
       "      <td>400013633</td>\n",
       "      <td>2022-06-02 00:48:13.800</td>\n",
       "      <td>2500.00</td>\n",
       "    </tr>\n",
       "    <tr>\n",
       "      <th>1</th>\n",
       "      <td>400018480</td>\n",
       "      <td>2022-06-02 01:52:05.707</td>\n",
       "      <td>1070.00</td>\n",
       "    </tr>\n",
       "    <tr>\n",
       "      <th>2</th>\n",
       "      <td>400032001</td>\n",
       "      <td>2022-06-02 04:55:40.307</td>\n",
       "      <td>4200.00</td>\n",
       "    </tr>\n",
       "    <tr>\n",
       "      <th>3</th>\n",
       "      <td>400033195</td>\n",
       "      <td>2022-06-02 05:44:23.480</td>\n",
       "      <td>2850.00</td>\n",
       "    </tr>\n",
       "    <tr>\n",
       "      <th>4</th>\n",
       "      <td>400039407</td>\n",
       "      <td>2022-06-02 06:53:54.503</td>\n",
       "      <td>10100.00</td>\n",
       "    </tr>\n",
       "    <tr>\n",
       "      <th>...</th>\n",
       "      <td>...</td>\n",
       "      <td>...</td>\n",
       "      <td>...</td>\n",
       "    </tr>\n",
       "    <tr>\n",
       "      <th>143279</th>\n",
       "      <td>469255350</td>\n",
       "      <td>2022-12-08 12:57:23.747</td>\n",
       "      <td>343.99</td>\n",
       "    </tr>\n",
       "    <tr>\n",
       "      <th>143280</th>\n",
       "      <td>452985418</td>\n",
       "      <td>2022-12-08 12:59:40.997</td>\n",
       "      <td>984.83</td>\n",
       "    </tr>\n",
       "    <tr>\n",
       "      <th>143281</th>\n",
       "      <td>490824962</td>\n",
       "      <td>2022-12-08 13:09:21.673</td>\n",
       "      <td>866.04</td>\n",
       "    </tr>\n",
       "    <tr>\n",
       "      <th>143282</th>\n",
       "      <td>480026135</td>\n",
       "      <td>2022-12-08 13:25:11.987</td>\n",
       "      <td>1193.25</td>\n",
       "    </tr>\n",
       "    <tr>\n",
       "      <th>143283</th>\n",
       "      <td>436374755</td>\n",
       "      <td>2022-12-08 13:28:23.703</td>\n",
       "      <td>381.10</td>\n",
       "    </tr>\n",
       "  </tbody>\n",
       "</table>\n",
       "<p>143284 rows × 3 columns</p>\n",
       "</div>"
      ],
      "text/plain": [
       "         order_id                  paid_at  paid_sum\n",
       "0       400013633  2022-06-02 00:48:13.800   2500.00\n",
       "1       400018480  2022-06-02 01:52:05.707   1070.00\n",
       "2       400032001  2022-06-02 04:55:40.307   4200.00\n",
       "3       400033195  2022-06-02 05:44:23.480   2850.00\n",
       "4       400039407  2022-06-02 06:53:54.503  10100.00\n",
       "...           ...                      ...       ...\n",
       "143279  469255350  2022-12-08 12:57:23.747    343.99\n",
       "143280  452985418  2022-12-08 12:59:40.997    984.83\n",
       "143281  490824962  2022-12-08 13:09:21.673    866.04\n",
       "143282  480026135  2022-12-08 13:25:11.987   1193.25\n",
       "143283  436374755  2022-12-08 13:28:23.703    381.10\n",
       "\n",
       "[143284 rows x 3 columns]"
      ]
     },
     "metadata": {},
     "output_type": "display_data"
    },
    {
     "name": "stdout",
     "output_type": "stream",
     "text": [
      "<class 'pandas.core.frame.DataFrame'>\n",
      "RangeIndex: 143284 entries, 0 to 143283\n",
      "Data columns (total 3 columns):\n",
      " #   Column    Non-Null Count   Dtype  \n",
      "---  ------    --------------   -----  \n",
      " 0   order_id  143284 non-null  int64  \n",
      " 1   paid_at   143284 non-null  object \n",
      " 2   paid_sum  143284 non-null  float64\n",
      "dtypes: float64(1), int64(1), object(1)\n",
      "memory usage: 3.3+ MB\n",
      "Количество явных дубликатов: \n",
      " 5\n",
      "Количество пропусков в колонках: \n",
      " order_id    0\n",
      "paid_at     0\n",
      "paid_sum    0\n",
      "dtype: int64\n"
     ]
    },
    {
     "data": {
      "text/plain": [
       "(None, None, None, None)"
      ]
     },
     "execution_count": 11,
     "metadata": {},
     "output_type": "execute_result"
    }
   ],
   "source": [
    "inspection(payments)"
   ]
  },
  {
   "cell_type": "code",
   "execution_count": 12,
   "metadata": {},
   "outputs": [
    {
     "name": "stdout",
     "output_type": "stream",
     "text": [
      "Количество дубликатов в колонке order_id: 89554\n"
     ]
    }
   ],
   "source": [
    "print('Количество дубликатов в колонке order_id:', payments['order_id'].duplicated().sum())"
   ]
  },
  {
   "cell_type": "code",
   "execution_count": 13,
   "metadata": {},
   "outputs": [
    {
     "data": {
      "text/plain": [
       "order_id\n",
       "430566924    33\n",
       "415582411    21\n",
       "455055318    19\n",
       "412111350    19\n",
       "421399602    18\n",
       "             ..\n",
       "441063242     1\n",
       "451033029     1\n",
       "413238583     1\n",
       "454522553     1\n",
       "465060685     1\n",
       "Name: count, Length: 53730, dtype: int64"
      ]
     },
     "execution_count": 13,
     "metadata": {},
     "output_type": "execute_result"
    }
   ],
   "source": [
    "payments['order_id'].value_counts()"
   ]
  },
  {
   "cell_type": "code",
   "execution_count": 14,
   "metadata": {},
   "outputs": [
    {
     "data": {
      "text/plain": [
       "paid_sum\n",
       "720.00     3858\n",
       "1070.00    2140\n",
       "2140.00    1525\n",
       "1430.00    1519\n",
       "4600.00    1511\n",
       "           ... \n",
       "1171.54       1\n",
       "2012.00       1\n",
       "591.30        1\n",
       "3486.68       1\n",
       "343.99        1\n",
       "Name: count, Length: 16086, dtype: int64"
      ]
     },
     "execution_count": 14,
     "metadata": {},
     "output_type": "execute_result"
    }
   ],
   "source": [
    "payments['paid_sum'].value_counts()"
   ]
  },
  {
   "cell_type": "markdown",
   "metadata": {},
   "source": [
    "В датасете payments имеем данные о дате и сумме фактического платежа клиентов. 143284 строк, 3 колонки.\n",
    "\n",
    "Пропусков в данных нет. Имеются дубликаты. Колонка paid_at имеет тип данных object, но колонка показывает дату фактического платежа, изменим на тип данных datetime. "
   ]
  },
  {
   "cell_type": "markdown",
   "metadata": {},
   "source": [
    "Датасет plan."
   ]
  },
  {
   "cell_type": "code",
   "execution_count": 15,
   "metadata": {},
   "outputs": [
    {
     "data": {
      "text/html": [
       "<div>\n",
       "<style scoped>\n",
       "    .dataframe tbody tr th:only-of-type {\n",
       "        vertical-align: middle;\n",
       "    }\n",
       "\n",
       "    .dataframe tbody tr th {\n",
       "        vertical-align: top;\n",
       "    }\n",
       "\n",
       "    .dataframe thead th {\n",
       "        text-align: right;\n",
       "    }\n",
       "</style>\n",
       "<table border=\"1\" class=\"dataframe\">\n",
       "  <thead>\n",
       "    <tr style=\"text-align: right;\">\n",
       "      <th></th>\n",
       "      <th>order_id</th>\n",
       "      <th>plan_at</th>\n",
       "      <th>plan_sum_total</th>\n",
       "    </tr>\n",
       "  </thead>\n",
       "  <tbody>\n",
       "    <tr>\n",
       "      <th>0</th>\n",
       "      <td>400001732</td>\n",
       "      <td>2022-06-02</td>\n",
       "      <td>5600.00</td>\n",
       "    </tr>\n",
       "    <tr>\n",
       "      <th>1</th>\n",
       "      <td>400001732</td>\n",
       "      <td>2022-07-02</td>\n",
       "      <td>9450.00</td>\n",
       "    </tr>\n",
       "    <tr>\n",
       "      <th>2</th>\n",
       "      <td>400001732</td>\n",
       "      <td>2022-08-01</td>\n",
       "      <td>12170.00</td>\n",
       "    </tr>\n",
       "    <tr>\n",
       "      <th>3</th>\n",
       "      <td>400001732</td>\n",
       "      <td>2022-08-31</td>\n",
       "      <td>14890.00</td>\n",
       "    </tr>\n",
       "    <tr>\n",
       "      <th>4</th>\n",
       "      <td>400001732</td>\n",
       "      <td>2022-09-30</td>\n",
       "      <td>17610.00</td>\n",
       "    </tr>\n",
       "    <tr>\n",
       "      <th>...</th>\n",
       "      <td>...</td>\n",
       "      <td>...</td>\n",
       "      <td>...</td>\n",
       "    </tr>\n",
       "    <tr>\n",
       "      <th>420277</th>\n",
       "      <td>495177509</td>\n",
       "      <td>2022-12-22</td>\n",
       "      <td>34248.70</td>\n",
       "    </tr>\n",
       "    <tr>\n",
       "      <th>420278</th>\n",
       "      <td>495177509</td>\n",
       "      <td>2023-01-06</td>\n",
       "      <td>36863.04</td>\n",
       "    </tr>\n",
       "    <tr>\n",
       "      <th>420279</th>\n",
       "      <td>495177509</td>\n",
       "      <td>2023-01-21</td>\n",
       "      <td>39440.38</td>\n",
       "    </tr>\n",
       "    <tr>\n",
       "      <th>420280</th>\n",
       "      <td>495177509</td>\n",
       "      <td>2023-02-05</td>\n",
       "      <td>41980.73</td>\n",
       "    </tr>\n",
       "    <tr>\n",
       "      <th>420281</th>\n",
       "      <td>495177509</td>\n",
       "      <td>2023-02-20</td>\n",
       "      <td>44484.12</td>\n",
       "    </tr>\n",
       "  </tbody>\n",
       "</table>\n",
       "<p>420282 rows × 3 columns</p>\n",
       "</div>"
      ],
      "text/plain": [
       "         order_id     plan_at  plan_sum_total\n",
       "0       400001732  2022-06-02         5600.00\n",
       "1       400001732  2022-07-02         9450.00\n",
       "2       400001732  2022-08-01        12170.00\n",
       "3       400001732  2022-08-31        14890.00\n",
       "4       400001732  2022-09-30        17610.00\n",
       "...           ...         ...             ...\n",
       "420277  495177509  2022-12-22        34248.70\n",
       "420278  495177509  2023-01-06        36863.04\n",
       "420279  495177509  2023-01-21        39440.38\n",
       "420280  495177509  2023-02-05        41980.73\n",
       "420281  495177509  2023-02-20        44484.12\n",
       "\n",
       "[420282 rows x 3 columns]"
      ]
     },
     "metadata": {},
     "output_type": "display_data"
    },
    {
     "name": "stdout",
     "output_type": "stream",
     "text": [
      "<class 'pandas.core.frame.DataFrame'>\n",
      "RangeIndex: 420282 entries, 0 to 420281\n",
      "Data columns (total 3 columns):\n",
      " #   Column          Non-Null Count   Dtype  \n",
      "---  ------          --------------   -----  \n",
      " 0   order_id        420282 non-null  int64  \n",
      " 1   plan_at         420282 non-null  object \n",
      " 2   plan_sum_total  420282 non-null  float64\n",
      "dtypes: float64(1), int64(1), object(1)\n",
      "memory usage: 9.6+ MB\n",
      "Количество явных дубликатов: \n",
      " 0\n",
      "Количество пропусков в колонках: \n",
      " order_id          0\n",
      "plan_at           0\n",
      "plan_sum_total    0\n",
      "dtype: int64\n"
     ]
    },
    {
     "data": {
      "text/plain": [
       "(None, None, None, None)"
      ]
     },
     "execution_count": 15,
     "metadata": {},
     "output_type": "execute_result"
    }
   ],
   "source": [
    "inspection(plan)"
   ]
  },
  {
   "cell_type": "code",
   "execution_count": 16,
   "metadata": {},
   "outputs": [
    {
     "data": {
      "text/plain": [
       "order_id\n",
       "487142846    25\n",
       "479493884    16\n",
       "470408029    14\n",
       "448009521    13\n",
       "452411354    13\n",
       "             ..\n",
       "423439734     1\n",
       "468875140     1\n",
       "468874039     1\n",
       "468871731     1\n",
       "442186265     1\n",
       "Name: count, Length: 55748, dtype: int64"
      ]
     },
     "execution_count": 16,
     "metadata": {},
     "output_type": "execute_result"
    }
   ],
   "source": [
    "plan['order_id'].value_counts()"
   ]
  },
  {
   "cell_type": "code",
   "execution_count": null,
   "metadata": {},
   "outputs": [],
   "source": []
  },
  {
   "cell_type": "markdown",
   "metadata": {},
   "source": [
    "### Исследовательский анализ и предобработка данных"
   ]
  },
  {
   "cell_type": "markdown",
   "metadata": {},
   "source": [
    "Предварительно сзделаем копии, в случае, если необходим будет оригинал датасета."
   ]
  },
  {
   "cell_type": "code",
   "execution_count": 17,
   "metadata": {},
   "outputs": [],
   "source": [
    "orders_copy = orders.copy()\n",
    "payments_copy = payments.copy()\n",
    "plan_copy = plan.copy()"
   ]
  },
  {
   "cell_type": "markdown",
   "metadata": {},
   "source": [
    "Изменим тип данных у выделенных колонок на предыдущем этапе."
   ]
  },
  {
   "cell_type": "code",
   "execution_count": 18,
   "metadata": {},
   "outputs": [],
   "source": [
    "#датасет orders_copy\n",
    "\n",
    "orders_copy['created_at'] = pd.to_datetime(orders_copy['created_at']).dt.date\n",
    "orders_copy['created_at'] = pd.to_datetime(orders_copy['created_at'])\n",
    "\n",
    "orders_copy['put_at'] = pd.to_datetime(orders_copy['put_at']).dt.date\n",
    "orders_copy['put_at'] = pd.to_datetime(orders_copy['put_at'])\n",
    "\n",
    "orders_copy['closed_at'] = pd.to_datetime(orders_copy['closed_at']).dt.date\n",
    "orders_copy['closed_at'] = pd.to_datetime(orders_copy['closed_at'])\n",
    "\n",
    "orders_copy['issued_sum'] = orders_copy['issued_sum'].astype('int64')\n",
    "\n",
    "#датасет payments_copy\n",
    "\n",
    "payments_copy['paid_at'] = pd.to_datetime(payments_copy['paid_at']).dt.date\n",
    "payments_copy['paid_at'] = pd.to_datetime(payments_copy['paid_at'])\n",
    "\n",
    "#датасет plan_copy\n",
    "\n",
    "plan_copy['plan_at'] = pd.to_datetime(plan_copy['plan_at']).dt.date\n",
    "plan_copy['plan_at'] = pd.to_datetime(plan_copy['plan_at'])\n"
   ]
  },
  {
   "cell_type": "code",
   "execution_count": 19,
   "metadata": {},
   "outputs": [
    {
     "name": "stdout",
     "output_type": "stream",
     "text": [
      "Тип данных колонок датасета orders_copy: \n",
      " order_id               int64\n",
      "created_at    datetime64[ns]\n",
      "put_at        datetime64[ns]\n",
      "closed_at     datetime64[ns]\n",
      "issued_sum             int64\n",
      "dtype: object \n",
      "\n",
      "Тип данных колонок датасета payments_copy: \n",
      " order_id             int64\n",
      "paid_at     datetime64[ns]\n",
      "paid_sum           float64\n",
      "dtype: object \n",
      "\n",
      "Тип данных колонок датасета plan_copy: \n",
      " order_id                   int64\n",
      "plan_at           datetime64[ns]\n",
      "plan_sum_total           float64\n",
      "dtype: object \n",
      "\n"
     ]
    }
   ],
   "source": [
    "print('Тип данных колонок датасета orders_copy:', '\\n', orders_copy.dtypes, '\\n')\n",
    "print('Тип данных колонок датасета payments_copy:', '\\n', payments_copy.dtypes, '\\n')\n",
    "print('Тип данных колонок датасета plan_copy:', '\\n', plan_copy.dtypes, '\\n')"
   ]
  },
  {
   "cell_type": "markdown",
   "metadata": {},
   "source": [
    "Удалим дубликаты в датасете payments_copy"
   ]
  },
  {
   "cell_type": "code",
   "execution_count": 20,
   "metadata": {},
   "outputs": [
    {
     "name": "stdout",
     "output_type": "stream",
     "text": [
      "Количество дубликатов в датасете payments_copy: 0\n"
     ]
    }
   ],
   "source": [
    "payments_copy = payments_copy.drop_duplicates()\n",
    "print('Количество дубликатов в датасете payments_copy:', payments_copy.duplicated().sum())"
   ]
  },
  {
   "cell_type": "code",
   "execution_count": 21,
   "metadata": {},
   "outputs": [
    {
     "data": {
      "text/html": [
       "<div>\n",
       "<style scoped>\n",
       "    .dataframe tbody tr th:only-of-type {\n",
       "        vertical-align: middle;\n",
       "    }\n",
       "\n",
       "    .dataframe tbody tr th {\n",
       "        vertical-align: top;\n",
       "    }\n",
       "\n",
       "    .dataframe thead th {\n",
       "        text-align: right;\n",
       "    }\n",
       "</style>\n",
       "<table border=\"1\" class=\"dataframe\">\n",
       "  <thead>\n",
       "    <tr style=\"text-align: right;\">\n",
       "      <th></th>\n",
       "      <th>order_id</th>\n",
       "      <th>created_at</th>\n",
       "      <th>put_at</th>\n",
       "      <th>closed_at</th>\n",
       "      <th>issued_sum</th>\n",
       "    </tr>\n",
       "  </thead>\n",
       "  <tbody>\n",
       "    <tr>\n",
       "      <th>0</th>\n",
       "      <td>400001732</td>\n",
       "      <td>2022-06-02</td>\n",
       "      <td>2022-06-02</td>\n",
       "      <td>2022-10-17</td>\n",
       "      <td>13600</td>\n",
       "    </tr>\n",
       "    <tr>\n",
       "      <th>1</th>\n",
       "      <td>400005838</td>\n",
       "      <td>2022-06-02</td>\n",
       "      <td>2022-06-02</td>\n",
       "      <td>2022-06-02</td>\n",
       "      <td>20000</td>\n",
       "    </tr>\n",
       "    <tr>\n",
       "      <th>2</th>\n",
       "      <td>400007915</td>\n",
       "      <td>2022-06-02</td>\n",
       "      <td>2022-06-05</td>\n",
       "      <td>2022-06-21</td>\n",
       "      <td>5820</td>\n",
       "    </tr>\n",
       "    <tr>\n",
       "      <th>3</th>\n",
       "      <td>400008952</td>\n",
       "      <td>2022-06-02</td>\n",
       "      <td>2022-06-03</td>\n",
       "      <td>2022-07-12</td>\n",
       "      <td>9000</td>\n",
       "    </tr>\n",
       "    <tr>\n",
       "      <th>4</th>\n",
       "      <td>400009027</td>\n",
       "      <td>2022-06-02</td>\n",
       "      <td>2022-06-02</td>\n",
       "      <td>2022-06-22</td>\n",
       "      <td>5000</td>\n",
       "    </tr>\n",
       "  </tbody>\n",
       "</table>\n",
       "</div>"
      ],
      "text/plain": [
       "    order_id created_at     put_at  closed_at  issued_sum\n",
       "0  400001732 2022-06-02 2022-06-02 2022-10-17       13600\n",
       "1  400005838 2022-06-02 2022-06-02 2022-06-02       20000\n",
       "2  400007915 2022-06-02 2022-06-05 2022-06-21        5820\n",
       "3  400008952 2022-06-02 2022-06-03 2022-07-12        9000\n",
       "4  400009027 2022-06-02 2022-06-02 2022-06-22        5000"
      ]
     },
     "execution_count": 21,
     "metadata": {},
     "output_type": "execute_result"
    }
   ],
   "source": [
    "orders_copy.head(5)"
   ]
  },
  {
   "cell_type": "markdown",
   "metadata": {},
   "source": [
    "Определим соотношение клиентов, которые не закрыли кредиты."
   ]
  },
  {
   "cell_type": "code",
   "execution_count": 22,
   "metadata": {},
   "outputs": [
    {
     "data": {
      "text/plain": [
       "closed_at\n",
       "False    46472\n",
       "True      9276\n",
       "Name: count, dtype: int64"
      ]
     },
     "execution_count": 22,
     "metadata": {},
     "output_type": "execute_result"
    }
   ],
   "source": [
    "prosrok = orders_copy['closed_at'].isnull().value_counts()\n",
    "prosrok"
   ]
  },
  {
   "cell_type": "code",
   "execution_count": 23,
   "metadata": {},
   "outputs": [
    {
     "data": {
      "text/html": [
       "<div>\n",
       "<style scoped>\n",
       "    .dataframe tbody tr th:only-of-type {\n",
       "        vertical-align: middle;\n",
       "    }\n",
       "\n",
       "    .dataframe tbody tr th {\n",
       "        vertical-align: top;\n",
       "    }\n",
       "\n",
       "    .dataframe thead th {\n",
       "        text-align: right;\n",
       "    }\n",
       "</style>\n",
       "<table border=\"1\" class=\"dataframe\">\n",
       "  <thead>\n",
       "    <tr style=\"text-align: right;\">\n",
       "      <th></th>\n",
       "      <th>order_id</th>\n",
       "      <th>created_at</th>\n",
       "      <th>put_at</th>\n",
       "      <th>closed_at</th>\n",
       "      <th>issued_sum</th>\n",
       "    </tr>\n",
       "  </thead>\n",
       "  <tbody>\n",
       "    <tr>\n",
       "      <th>31</th>\n",
       "      <td>400039450</td>\n",
       "      <td>2022-06-02</td>\n",
       "      <td>2022-06-02</td>\n",
       "      <td>NaT</td>\n",
       "      <td>8140</td>\n",
       "    </tr>\n",
       "    <tr>\n",
       "      <th>53</th>\n",
       "      <td>400087077</td>\n",
       "      <td>2022-06-02</td>\n",
       "      <td>2022-06-02</td>\n",
       "      <td>NaT</td>\n",
       "      <td>2920</td>\n",
       "    </tr>\n",
       "    <tr>\n",
       "      <th>62</th>\n",
       "      <td>400104071</td>\n",
       "      <td>2022-06-02</td>\n",
       "      <td>2022-06-02</td>\n",
       "      <td>NaT</td>\n",
       "      <td>1720</td>\n",
       "    </tr>\n",
       "    <tr>\n",
       "      <th>67</th>\n",
       "      <td>400114009</td>\n",
       "      <td>2022-06-02</td>\n",
       "      <td>2022-06-02</td>\n",
       "      <td>NaT</td>\n",
       "      <td>13600</td>\n",
       "    </tr>\n",
       "    <tr>\n",
       "      <th>80</th>\n",
       "      <td>400128637</td>\n",
       "      <td>2022-06-02</td>\n",
       "      <td>2022-06-02</td>\n",
       "      <td>NaT</td>\n",
       "      <td>8500</td>\n",
       "    </tr>\n",
       "    <tr>\n",
       "      <th>...</th>\n",
       "      <td>...</td>\n",
       "      <td>...</td>\n",
       "      <td>...</td>\n",
       "      <td>...</td>\n",
       "      <td>...</td>\n",
       "    </tr>\n",
       "    <tr>\n",
       "      <th>55721</th>\n",
       "      <td>495129029</td>\n",
       "      <td>2022-08-31</td>\n",
       "      <td>2022-09-01</td>\n",
       "      <td>NaT</td>\n",
       "      <td>8500</td>\n",
       "    </tr>\n",
       "    <tr>\n",
       "      <th>55724</th>\n",
       "      <td>495142096</td>\n",
       "      <td>2022-08-31</td>\n",
       "      <td>2022-09-07</td>\n",
       "      <td>NaT</td>\n",
       "      <td>2720</td>\n",
       "    </tr>\n",
       "    <tr>\n",
       "      <th>55732</th>\n",
       "      <td>495148390</td>\n",
       "      <td>2022-08-31</td>\n",
       "      <td>2022-09-02</td>\n",
       "      <td>NaT</td>\n",
       "      <td>3450</td>\n",
       "    </tr>\n",
       "    <tr>\n",
       "      <th>55743</th>\n",
       "      <td>495174013</td>\n",
       "      <td>2022-08-31</td>\n",
       "      <td>2022-09-01</td>\n",
       "      <td>NaT</td>\n",
       "      <td>9500</td>\n",
       "    </tr>\n",
       "    <tr>\n",
       "      <th>55747</th>\n",
       "      <td>495177509</td>\n",
       "      <td>2022-08-31</td>\n",
       "      <td>2022-09-01</td>\n",
       "      <td>NaT</td>\n",
       "      <td>27130</td>\n",
       "    </tr>\n",
       "  </tbody>\n",
       "</table>\n",
       "<p>9276 rows × 5 columns</p>\n",
       "</div>"
      ],
      "text/plain": [
       "        order_id created_at     put_at closed_at  issued_sum\n",
       "31     400039450 2022-06-02 2022-06-02       NaT        8140\n",
       "53     400087077 2022-06-02 2022-06-02       NaT        2920\n",
       "62     400104071 2022-06-02 2022-06-02       NaT        1720\n",
       "67     400114009 2022-06-02 2022-06-02       NaT       13600\n",
       "80     400128637 2022-06-02 2022-06-02       NaT        8500\n",
       "...          ...        ...        ...       ...         ...\n",
       "55721  495129029 2022-08-31 2022-09-01       NaT        8500\n",
       "55724  495142096 2022-08-31 2022-09-07       NaT        2720\n",
       "55732  495148390 2022-08-31 2022-09-02       NaT        3450\n",
       "55743  495174013 2022-08-31 2022-09-01       NaT        9500\n",
       "55747  495177509 2022-08-31 2022-09-01       NaT       27130\n",
       "\n",
       "[9276 rows x 5 columns]"
      ]
     },
     "metadata": {},
     "output_type": "display_data"
    }
   ],
   "source": [
    "display(orders_copy[orders_copy['closed_at'].isnull()])"
   ]
  },
  {
   "cell_type": "code",
   "execution_count": 24,
   "metadata": {},
   "outputs": [
    {
     "name": "stdout",
     "output_type": "stream",
     "text": [
      "Количество клиентов получивших кредит: 55748\n"
     ]
    }
   ],
   "source": [
    "print('Количество клиентов получивших кредит:', orders_copy['order_id'].count())"
   ]
  },
  {
   "cell_type": "markdown",
   "metadata": {},
   "source": [
    "Произведем объединение датасетов."
   ]
  },
  {
   "cell_type": "code",
   "execution_count": 25,
   "metadata": {},
   "outputs": [
    {
     "data": {
      "text/html": [
       "<div>\n",
       "<style scoped>\n",
       "    .dataframe tbody tr th:only-of-type {\n",
       "        vertical-align: middle;\n",
       "    }\n",
       "\n",
       "    .dataframe tbody tr th {\n",
       "        vertical-align: top;\n",
       "    }\n",
       "\n",
       "    .dataframe thead th {\n",
       "        text-align: right;\n",
       "    }\n",
       "</style>\n",
       "<table border=\"1\" class=\"dataframe\">\n",
       "  <thead>\n",
       "    <tr style=\"text-align: right;\">\n",
       "      <th></th>\n",
       "      <th>order_id</th>\n",
       "      <th>plan_at</th>\n",
       "      <th>plan_sum_total</th>\n",
       "      <th>closed_at</th>\n",
       "    </tr>\n",
       "  </thead>\n",
       "  <tbody>\n",
       "    <tr>\n",
       "      <th>0</th>\n",
       "      <td>400001732</td>\n",
       "      <td>2022-06-02</td>\n",
       "      <td>5600.00</td>\n",
       "      <td>2022-10-17</td>\n",
       "    </tr>\n",
       "    <tr>\n",
       "      <th>1</th>\n",
       "      <td>400001732</td>\n",
       "      <td>2022-07-02</td>\n",
       "      <td>9450.00</td>\n",
       "      <td>2022-10-17</td>\n",
       "    </tr>\n",
       "    <tr>\n",
       "      <th>2</th>\n",
       "      <td>400001732</td>\n",
       "      <td>2022-08-01</td>\n",
       "      <td>12170.00</td>\n",
       "      <td>2022-10-17</td>\n",
       "    </tr>\n",
       "    <tr>\n",
       "      <th>3</th>\n",
       "      <td>400001732</td>\n",
       "      <td>2022-08-31</td>\n",
       "      <td>14890.00</td>\n",
       "      <td>2022-10-17</td>\n",
       "    </tr>\n",
       "    <tr>\n",
       "      <th>4</th>\n",
       "      <td>400001732</td>\n",
       "      <td>2022-09-30</td>\n",
       "      <td>17610.00</td>\n",
       "      <td>2022-10-17</td>\n",
       "    </tr>\n",
       "    <tr>\n",
       "      <th>...</th>\n",
       "      <td>...</td>\n",
       "      <td>...</td>\n",
       "      <td>...</td>\n",
       "      <td>...</td>\n",
       "    </tr>\n",
       "    <tr>\n",
       "      <th>420277</th>\n",
       "      <td>495177509</td>\n",
       "      <td>2022-12-22</td>\n",
       "      <td>34248.70</td>\n",
       "      <td>NaT</td>\n",
       "    </tr>\n",
       "    <tr>\n",
       "      <th>420278</th>\n",
       "      <td>495177509</td>\n",
       "      <td>2023-01-06</td>\n",
       "      <td>36863.04</td>\n",
       "      <td>NaT</td>\n",
       "    </tr>\n",
       "    <tr>\n",
       "      <th>420279</th>\n",
       "      <td>495177509</td>\n",
       "      <td>2023-01-21</td>\n",
       "      <td>39440.38</td>\n",
       "      <td>NaT</td>\n",
       "    </tr>\n",
       "    <tr>\n",
       "      <th>420280</th>\n",
       "      <td>495177509</td>\n",
       "      <td>2023-02-05</td>\n",
       "      <td>41980.73</td>\n",
       "      <td>NaT</td>\n",
       "    </tr>\n",
       "    <tr>\n",
       "      <th>420281</th>\n",
       "      <td>495177509</td>\n",
       "      <td>2023-02-20</td>\n",
       "      <td>44484.12</td>\n",
       "      <td>NaT</td>\n",
       "    </tr>\n",
       "  </tbody>\n",
       "</table>\n",
       "<p>420282 rows × 4 columns</p>\n",
       "</div>"
      ],
      "text/plain": [
       "         order_id    plan_at  plan_sum_total  closed_at\n",
       "0       400001732 2022-06-02         5600.00 2022-10-17\n",
       "1       400001732 2022-07-02         9450.00 2022-10-17\n",
       "2       400001732 2022-08-01        12170.00 2022-10-17\n",
       "3       400001732 2022-08-31        14890.00 2022-10-17\n",
       "4       400001732 2022-09-30        17610.00 2022-10-17\n",
       "...           ...        ...             ...        ...\n",
       "420277  495177509 2022-12-22        34248.70        NaT\n",
       "420278  495177509 2023-01-06        36863.04        NaT\n",
       "420279  495177509 2023-01-21        39440.38        NaT\n",
       "420280  495177509 2023-02-05        41980.73        NaT\n",
       "420281  495177509 2023-02-20        44484.12        NaT\n",
       "\n",
       "[420282 rows x 4 columns]"
      ]
     },
     "execution_count": 25,
     "metadata": {},
     "output_type": "execute_result"
    }
   ],
   "source": [
    "plan_copy_merge = plan_copy.merge(orders_copy[['order_id', 'closed_at']], on = 'order_id', how = 'left')\n",
    "plan_copy_merge"
   ]
  },
  {
   "cell_type": "code",
   "execution_count": 26,
   "metadata": {},
   "outputs": [
    {
     "data": {
      "text/html": [
       "<div>\n",
       "<style scoped>\n",
       "    .dataframe tbody tr th:only-of-type {\n",
       "        vertical-align: middle;\n",
       "    }\n",
       "\n",
       "    .dataframe tbody tr th {\n",
       "        vertical-align: top;\n",
       "    }\n",
       "\n",
       "    .dataframe thead th {\n",
       "        text-align: right;\n",
       "    }\n",
       "</style>\n",
       "<table border=\"1\" class=\"dataframe\">\n",
       "  <thead>\n",
       "    <tr style=\"text-align: right;\">\n",
       "      <th></th>\n",
       "      <th>order_id</th>\n",
       "      <th>plan_at</th>\n",
       "      <th>plan_sum_total</th>\n",
       "      <th>closed_at</th>\n",
       "      <th>paid_at</th>\n",
       "      <th>paid_sum</th>\n",
       "    </tr>\n",
       "  </thead>\n",
       "  <tbody>\n",
       "    <tr>\n",
       "      <th>0</th>\n",
       "      <td>400001732</td>\n",
       "      <td>2022-06-02</td>\n",
       "      <td>5600.00</td>\n",
       "      <td>2022-10-17</td>\n",
       "      <td>2022-06-02</td>\n",
       "      <td>5600.00</td>\n",
       "    </tr>\n",
       "    <tr>\n",
       "      <th>1</th>\n",
       "      <td>400001732</td>\n",
       "      <td>2022-06-02</td>\n",
       "      <td>5600.00</td>\n",
       "      <td>2022-10-17</td>\n",
       "      <td>2022-06-16</td>\n",
       "      <td>3850.00</td>\n",
       "    </tr>\n",
       "    <tr>\n",
       "      <th>2</th>\n",
       "      <td>400001732</td>\n",
       "      <td>2022-06-02</td>\n",
       "      <td>5600.00</td>\n",
       "      <td>2022-10-17</td>\n",
       "      <td>2022-07-15</td>\n",
       "      <td>2720.00</td>\n",
       "    </tr>\n",
       "    <tr>\n",
       "      <th>3</th>\n",
       "      <td>400001732</td>\n",
       "      <td>2022-06-02</td>\n",
       "      <td>5600.00</td>\n",
       "      <td>2022-10-17</td>\n",
       "      <td>2022-08-16</td>\n",
       "      <td>2720.00</td>\n",
       "    </tr>\n",
       "    <tr>\n",
       "      <th>4</th>\n",
       "      <td>400001732</td>\n",
       "      <td>2022-06-02</td>\n",
       "      <td>5600.00</td>\n",
       "      <td>2022-10-17</td>\n",
       "      <td>2022-09-15</td>\n",
       "      <td>2720.00</td>\n",
       "    </tr>\n",
       "    <tr>\n",
       "      <th>...</th>\n",
       "      <td>...</td>\n",
       "      <td>...</td>\n",
       "      <td>...</td>\n",
       "      <td>...</td>\n",
       "      <td>...</td>\n",
       "      <td>...</td>\n",
       "    </tr>\n",
       "    <tr>\n",
       "      <th>1463766</th>\n",
       "      <td>495177509</td>\n",
       "      <td>2023-02-20</td>\n",
       "      <td>44484.12</td>\n",
       "      <td>NaT</td>\n",
       "      <td>2022-10-19</td>\n",
       "      <td>2762.32</td>\n",
       "    </tr>\n",
       "    <tr>\n",
       "      <th>1463767</th>\n",
       "      <td>495177509</td>\n",
       "      <td>2023-02-20</td>\n",
       "      <td>44484.12</td>\n",
       "      <td>NaT</td>\n",
       "      <td>2022-10-21</td>\n",
       "      <td>2725.32</td>\n",
       "    </tr>\n",
       "    <tr>\n",
       "      <th>1463768</th>\n",
       "      <td>495177509</td>\n",
       "      <td>2023-02-20</td>\n",
       "      <td>44484.12</td>\n",
       "      <td>NaT</td>\n",
       "      <td>2022-10-21</td>\n",
       "      <td>2688.33</td>\n",
       "    </tr>\n",
       "    <tr>\n",
       "      <th>1463769</th>\n",
       "      <td>495177509</td>\n",
       "      <td>2023-02-20</td>\n",
       "      <td>44484.12</td>\n",
       "      <td>NaT</td>\n",
       "      <td>2022-10-23</td>\n",
       "      <td>2651.33</td>\n",
       "    </tr>\n",
       "    <tr>\n",
       "      <th>1463770</th>\n",
       "      <td>495177509</td>\n",
       "      <td>2023-02-20</td>\n",
       "      <td>44484.12</td>\n",
       "      <td>NaT</td>\n",
       "      <td>2022-10-24</td>\n",
       "      <td>2614.34</td>\n",
       "    </tr>\n",
       "  </tbody>\n",
       "</table>\n",
       "<p>1463771 rows × 6 columns</p>\n",
       "</div>"
      ],
      "text/plain": [
       "          order_id    plan_at  plan_sum_total  closed_at    paid_at  paid_sum\n",
       "0        400001732 2022-06-02         5600.00 2022-10-17 2022-06-02   5600.00\n",
       "1        400001732 2022-06-02         5600.00 2022-10-17 2022-06-16   3850.00\n",
       "2        400001732 2022-06-02         5600.00 2022-10-17 2022-07-15   2720.00\n",
       "3        400001732 2022-06-02         5600.00 2022-10-17 2022-08-16   2720.00\n",
       "4        400001732 2022-06-02         5600.00 2022-10-17 2022-09-15   2720.00\n",
       "...            ...        ...             ...        ...        ...       ...\n",
       "1463766  495177509 2023-02-20        44484.12        NaT 2022-10-19   2762.32\n",
       "1463767  495177509 2023-02-20        44484.12        NaT 2022-10-21   2725.32\n",
       "1463768  495177509 2023-02-20        44484.12        NaT 2022-10-21   2688.33\n",
       "1463769  495177509 2023-02-20        44484.12        NaT 2022-10-23   2651.33\n",
       "1463770  495177509 2023-02-20        44484.12        NaT 2022-10-24   2614.34\n",
       "\n",
       "[1463771 rows x 6 columns]"
      ]
     },
     "execution_count": 26,
     "metadata": {},
     "output_type": "execute_result"
    }
   ],
   "source": [
    "merged_df = plan_copy_merge.merge(payments_copy, on='order_id', how='left')\n",
    "merged_df"
   ]
  },
  {
   "cell_type": "markdown",
   "metadata": {},
   "source": [
    "Напишем функцию, которые распределит категории клиентов на \"просрочка\", \"нет просрочки\", \"досрочное закрыте\".\n",
    "\n",
    "Поставим условие: Дата фактического платежа должна быть меньше или равна дате планового платежа, и сумма планового платежа должна быть меньше, чем сумма фактического платежа с учетом предыдущих выплат. Если условие выполняется то просрочки нет, если нарушается то есть просрочка. Если последняя дата фактического платежа равна дате закрытия договора, но меньше даты планового платежа, то досрочное закрытие."
   ]
  },
  {
   "cell_type": "code",
   "execution_count": 27,
   "metadata": {},
   "outputs": [],
   "source": [
    "def delayed_table(df):\n",
    "\n",
    "    # Инициализируем колонку delayed\n",
    "    df['delayed'] = ''\n",
    "\n",
    "    # Проходим по каждой строке и проверяем условия\n",
    "    for index, row in df.iterrows():\n",
    "        if pd.notna(row['plan_at']) and pd.notna(row['paid_at']):\n",
    "            if row['plan_at'] >= row['paid_at']:\n",
    "                # Если дата планового платежа больше или равна дате фактического платежа,\n",
    "                # проверяем сумму\n",
    "                if row['plan_sum_total'] <= row['paid_sum']:\n",
    "                    df.at[index, 'delayed'] = 'нет просрочки'\n",
    "                else:\n",
    "                    # Если сумма фактического платежа меньше плановой, но даты соответствуют,\n",
    "                    # проверяем, не было ли досрочного закрытия\n",
    "                    if row['closed_at'] <= row['plan_at']:\n",
    "                        df.at[index, 'delayed'] = 'досрочное закрытие'\n",
    "                    else:\n",
    "                        df.at[index, 'delayed'] = 'просрочка'\n",
    "            else:\n",
    "                df.at[index, 'delayed'] = 'просрочка'\n",
    "\n",
    "\n",
    "    # Выбираем нужные колонки и удаляем дубликаты order_id\n",
    "    result_df = df[['order_id', 'delayed']].drop_duplicates(subset='order_id')\n",
    "\n",
    "    return result_df"
   ]
  },
  {
   "cell_type": "code",
   "execution_count": 28,
   "metadata": {},
   "outputs": [
    {
     "data": {
      "text/html": [
       "<div>\n",
       "<style scoped>\n",
       "    .dataframe tbody tr th:only-of-type {\n",
       "        vertical-align: middle;\n",
       "    }\n",
       "\n",
       "    .dataframe tbody tr th {\n",
       "        vertical-align: top;\n",
       "    }\n",
       "\n",
       "    .dataframe thead th {\n",
       "        text-align: right;\n",
       "    }\n",
       "</style>\n",
       "<table border=\"1\" class=\"dataframe\">\n",
       "  <thead>\n",
       "    <tr style=\"text-align: right;\">\n",
       "      <th></th>\n",
       "      <th>order_id</th>\n",
       "      <th>delayed</th>\n",
       "    </tr>\n",
       "  </thead>\n",
       "  <tbody>\n",
       "    <tr>\n",
       "      <th>0</th>\n",
       "      <td>400001732</td>\n",
       "      <td>нет просрочки</td>\n",
       "    </tr>\n",
       "    <tr>\n",
       "      <th>49</th>\n",
       "      <td>400005838</td>\n",
       "      <td>досрочное закрытие</td>\n",
       "    </tr>\n",
       "    <tr>\n",
       "      <th>50</th>\n",
       "      <td>400007915</td>\n",
       "      <td>нет просрочки</td>\n",
       "    </tr>\n",
       "    <tr>\n",
       "      <th>76</th>\n",
       "      <td>400008952</td>\n",
       "      <td>просрочка</td>\n",
       "    </tr>\n",
       "    <tr>\n",
       "      <th>77</th>\n",
       "      <td>400009027</td>\n",
       "      <td>просрочка</td>\n",
       "    </tr>\n",
       "    <tr>\n",
       "      <th>...</th>\n",
       "      <td>...</td>\n",
       "      <td>...</td>\n",
       "    </tr>\n",
       "    <tr>\n",
       "      <th>1463587</th>\n",
       "      <td>495174013</td>\n",
       "      <td>нет просрочки</td>\n",
       "    </tr>\n",
       "    <tr>\n",
       "      <th>1463600</th>\n",
       "      <td>495174505</td>\n",
       "      <td>просрочка</td>\n",
       "    </tr>\n",
       "    <tr>\n",
       "      <th>1463639</th>\n",
       "      <td>495175322</td>\n",
       "      <td>досрочное закрытие</td>\n",
       "    </tr>\n",
       "    <tr>\n",
       "      <th>1463640</th>\n",
       "      <td>495176080</td>\n",
       "      <td>досрочное закрытие</td>\n",
       "    </tr>\n",
       "    <tr>\n",
       "      <th>1463641</th>\n",
       "      <td>495177509</td>\n",
       "      <td>нет просрочки</td>\n",
       "    </tr>\n",
       "  </tbody>\n",
       "</table>\n",
       "<p>55748 rows × 2 columns</p>\n",
       "</div>"
      ],
      "text/plain": [
       "          order_id             delayed\n",
       "0        400001732       нет просрочки\n",
       "49       400005838  досрочное закрытие\n",
       "50       400007915       нет просрочки\n",
       "76       400008952           просрочка\n",
       "77       400009027           просрочка\n",
       "...            ...                 ...\n",
       "1463587  495174013       нет просрочки\n",
       "1463600  495174505           просрочка\n",
       "1463639  495175322  досрочное закрытие\n",
       "1463640  495176080  досрочное закрытие\n",
       "1463641  495177509       нет просрочки\n",
       "\n",
       "[55748 rows x 2 columns]"
      ]
     },
     "execution_count": 28,
     "metadata": {},
     "output_type": "execute_result"
    }
   ],
   "source": [
    "result_table = delayed_table(merged_df)\n",
    "result_table\n"
   ]
  },
  {
   "cell_type": "markdown",
   "metadata": {},
   "source": [
    "Частично проверим результат."
   ]
  },
  {
   "cell_type": "code",
   "execution_count": 29,
   "metadata": {},
   "outputs": [
    {
     "name": "stdout",
     "output_type": "stream",
     "text": [
      "<class 'pandas.core.frame.DataFrame'>\n",
      "Index: 55748 entries, 0 to 1463641\n",
      "Data columns (total 2 columns):\n",
      " #   Column    Non-Null Count  Dtype \n",
      "---  ------    --------------  ----- \n",
      " 0   order_id  55748 non-null  int64 \n",
      " 1   delayed   55748 non-null  object\n",
      "dtypes: int64(1), object(1)\n",
      "memory usage: 1.3+ MB\n"
     ]
    }
   ],
   "source": [
    "result_table.info()"
   ]
  },
  {
   "cell_type": "code",
   "execution_count": 30,
   "metadata": {},
   "outputs": [
    {
     "data": {
      "text/html": [
       "<div>\n",
       "<style scoped>\n",
       "    .dataframe tbody tr th:only-of-type {\n",
       "        vertical-align: middle;\n",
       "    }\n",
       "\n",
       "    .dataframe tbody tr th {\n",
       "        vertical-align: top;\n",
       "    }\n",
       "\n",
       "    .dataframe thead th {\n",
       "        text-align: right;\n",
       "    }\n",
       "</style>\n",
       "<table border=\"1\" class=\"dataframe\">\n",
       "  <thead>\n",
       "    <tr style=\"text-align: right;\">\n",
       "      <th></th>\n",
       "      <th>order_id</th>\n",
       "      <th>created_at</th>\n",
       "      <th>put_at</th>\n",
       "      <th>closed_at</th>\n",
       "      <th>issued_sum</th>\n",
       "    </tr>\n",
       "  </thead>\n",
       "  <tbody>\n",
       "    <tr>\n",
       "      <th>55745</th>\n",
       "      <td>495175322</td>\n",
       "      <td>2022-08-31</td>\n",
       "      <td>2022-09-01</td>\n",
       "      <td>2022-09-09</td>\n",
       "      <td>4000</td>\n",
       "    </tr>\n",
       "  </tbody>\n",
       "</table>\n",
       "</div>"
      ],
      "text/plain": [
       "        order_id created_at     put_at  closed_at  issued_sum\n",
       "55745  495175322 2022-08-31 2022-09-01 2022-09-09        4000"
      ]
     },
     "metadata": {},
     "output_type": "display_data"
    },
    {
     "data": {
      "text/html": [
       "<div>\n",
       "<style scoped>\n",
       "    .dataframe tbody tr th:only-of-type {\n",
       "        vertical-align: middle;\n",
       "    }\n",
       "\n",
       "    .dataframe tbody tr th {\n",
       "        vertical-align: top;\n",
       "    }\n",
       "\n",
       "    .dataframe thead th {\n",
       "        text-align: right;\n",
       "    }\n",
       "</style>\n",
       "<table border=\"1\" class=\"dataframe\">\n",
       "  <thead>\n",
       "    <tr style=\"text-align: right;\">\n",
       "      <th></th>\n",
       "      <th>order_id</th>\n",
       "      <th>plan_at</th>\n",
       "      <th>plan_sum_total</th>\n",
       "    </tr>\n",
       "  </thead>\n",
       "  <tbody>\n",
       "    <tr>\n",
       "      <th>420267</th>\n",
       "      <td>495175322</td>\n",
       "      <td>2022-09-16</td>\n",
       "      <td>4600.0</td>\n",
       "    </tr>\n",
       "  </tbody>\n",
       "</table>\n",
       "</div>"
      ],
      "text/plain": [
       "         order_id    plan_at  plan_sum_total\n",
       "420267  495175322 2022-09-16          4600.0"
      ]
     },
     "metadata": {},
     "output_type": "display_data"
    },
    {
     "data": {
      "text/html": [
       "<div>\n",
       "<style scoped>\n",
       "    .dataframe tbody tr th:only-of-type {\n",
       "        vertical-align: middle;\n",
       "    }\n",
       "\n",
       "    .dataframe tbody tr th {\n",
       "        vertical-align: top;\n",
       "    }\n",
       "\n",
       "    .dataframe thead th {\n",
       "        text-align: right;\n",
       "    }\n",
       "</style>\n",
       "<table border=\"1\" class=\"dataframe\">\n",
       "  <thead>\n",
       "    <tr style=\"text-align: right;\">\n",
       "      <th></th>\n",
       "      <th>order_id</th>\n",
       "      <th>paid_at</th>\n",
       "      <th>paid_sum</th>\n",
       "    </tr>\n",
       "  </thead>\n",
       "  <tbody>\n",
       "    <tr>\n",
       "      <th>101415</th>\n",
       "      <td>495175322</td>\n",
       "      <td>2022-09-09</td>\n",
       "      <td>4320.0</td>\n",
       "    </tr>\n",
       "  </tbody>\n",
       "</table>\n",
       "</div>"
      ],
      "text/plain": [
       "         order_id    paid_at  paid_sum\n",
       "101415  495175322 2022-09-09    4320.0"
      ]
     },
     "metadata": {},
     "output_type": "display_data"
    }
   ],
   "source": [
    "display(orders_copy[orders_copy['order_id'] == 495175322])\n",
    "display(plan_copy[plan_copy['order_id'] == 495175322])\n",
    "display(payments_copy[payments_copy['order_id'] == 495175322])\n"
   ]
  },
  {
   "cell_type": "code",
   "execution_count": 31,
   "metadata": {},
   "outputs": [
    {
     "data": {
      "text/html": [
       "<div>\n",
       "<style scoped>\n",
       "    .dataframe tbody tr th:only-of-type {\n",
       "        vertical-align: middle;\n",
       "    }\n",
       "\n",
       "    .dataframe tbody tr th {\n",
       "        vertical-align: top;\n",
       "    }\n",
       "\n",
       "    .dataframe thead th {\n",
       "        text-align: right;\n",
       "    }\n",
       "</style>\n",
       "<table border=\"1\" class=\"dataframe\">\n",
       "  <thead>\n",
       "    <tr style=\"text-align: right;\">\n",
       "      <th></th>\n",
       "      <th>order_id</th>\n",
       "      <th>delayed</th>\n",
       "    </tr>\n",
       "  </thead>\n",
       "  <tbody>\n",
       "    <tr>\n",
       "      <th>1559</th>\n",
       "      <td>400087077</td>\n",
       "      <td></td>\n",
       "    </tr>\n",
       "    <tr>\n",
       "      <th>1894</th>\n",
       "      <td>400104071</td>\n",
       "      <td></td>\n",
       "    </tr>\n",
       "    <tr>\n",
       "      <th>2415</th>\n",
       "      <td>400128637</td>\n",
       "      <td></td>\n",
       "    </tr>\n",
       "    <tr>\n",
       "      <th>2950</th>\n",
       "      <td>400161627</td>\n",
       "      <td></td>\n",
       "    </tr>\n",
       "    <tr>\n",
       "      <th>3689</th>\n",
       "      <td>400214630</td>\n",
       "      <td></td>\n",
       "    </tr>\n",
       "    <tr>\n",
       "      <th>...</th>\n",
       "      <td>...</td>\n",
       "      <td>...</td>\n",
       "    </tr>\n",
       "    <tr>\n",
       "      <th>1461075</th>\n",
       "      <td>494993424</td>\n",
       "      <td></td>\n",
       "    </tr>\n",
       "    <tr>\n",
       "      <th>1461082</th>\n",
       "      <td>494993603</td>\n",
       "      <td></td>\n",
       "    </tr>\n",
       "    <tr>\n",
       "      <th>1461321</th>\n",
       "      <td>495016698</td>\n",
       "      <td></td>\n",
       "    </tr>\n",
       "    <tr>\n",
       "      <th>1463035</th>\n",
       "      <td>495119649</td>\n",
       "      <td></td>\n",
       "    </tr>\n",
       "    <tr>\n",
       "      <th>1463209</th>\n",
       "      <td>495129029</td>\n",
       "      <td></td>\n",
       "    </tr>\n",
       "  </tbody>\n",
       "</table>\n",
       "<p>2018 rows × 2 columns</p>\n",
       "</div>"
      ],
      "text/plain": [
       "          order_id delayed\n",
       "1559     400087077        \n",
       "1894     400104071        \n",
       "2415     400128637        \n",
       "2950     400161627        \n",
       "3689     400214630        \n",
       "...            ...     ...\n",
       "1461075  494993424        \n",
       "1461082  494993603        \n",
       "1461321  495016698        \n",
       "1463035  495119649        \n",
       "1463209  495129029        \n",
       "\n",
       "[2018 rows x 2 columns]"
      ]
     },
     "execution_count": 31,
     "metadata": {},
     "output_type": "execute_result"
    }
   ],
   "source": [
    "result_table[result_table['delayed'] == '']"
   ]
  },
  {
   "cell_type": "markdown",
   "metadata": {},
   "source": [
    "Некоторые договора не определились, т.к. не было выплат, что соответсвует просрочке платежа."
   ]
  },
  {
   "cell_type": "code",
   "execution_count": 32,
   "metadata": {},
   "outputs": [],
   "source": [
    "result_table['delayed'] = result_table['delayed'].replace('', 'просрочка')"
   ]
  },
  {
   "cell_type": "code",
   "execution_count": 33,
   "metadata": {},
   "outputs": [
    {
     "data": {
      "text/plain": [
       "delayed\n",
       "нет просрочки         28706\n",
       "досрочное закрытие    15487\n",
       "просрочка             11555\n",
       "Name: count, dtype: int64"
      ]
     },
     "execution_count": 33,
     "metadata": {},
     "output_type": "execute_result"
    }
   ],
   "source": [
    "result_table['delayed'].value_counts()"
   ]
  },
  {
   "cell_type": "markdown",
   "metadata": {},
   "source": [
    "Добавим к таблице информацию с датасета order_copy"
   ]
  },
  {
   "cell_type": "code",
   "execution_count": 34,
   "metadata": {},
   "outputs": [],
   "source": [
    "result_table = result_table.merge(orders_copy, on = 'order_id', how = 'left')"
   ]
  },
  {
   "cell_type": "code",
   "execution_count": 35,
   "metadata": {},
   "outputs": [
    {
     "data": {
      "text/html": [
       "<div>\n",
       "<style scoped>\n",
       "    .dataframe tbody tr th:only-of-type {\n",
       "        vertical-align: middle;\n",
       "    }\n",
       "\n",
       "    .dataframe tbody tr th {\n",
       "        vertical-align: top;\n",
       "    }\n",
       "\n",
       "    .dataframe thead th {\n",
       "        text-align: right;\n",
       "    }\n",
       "</style>\n",
       "<table border=\"1\" class=\"dataframe\">\n",
       "  <thead>\n",
       "    <tr style=\"text-align: right;\">\n",
       "      <th></th>\n",
       "      <th>order_id</th>\n",
       "      <th>delayed</th>\n",
       "      <th>created_at</th>\n",
       "      <th>put_at</th>\n",
       "      <th>closed_at</th>\n",
       "      <th>issued_sum</th>\n",
       "    </tr>\n",
       "  </thead>\n",
       "  <tbody>\n",
       "    <tr>\n",
       "      <th>0</th>\n",
       "      <td>400001732</td>\n",
       "      <td>нет просрочки</td>\n",
       "      <td>2022-06-02</td>\n",
       "      <td>2022-06-02</td>\n",
       "      <td>2022-10-17</td>\n",
       "      <td>13600</td>\n",
       "    </tr>\n",
       "    <tr>\n",
       "      <th>1</th>\n",
       "      <td>400005838</td>\n",
       "      <td>досрочное закрытие</td>\n",
       "      <td>2022-06-02</td>\n",
       "      <td>2022-06-02</td>\n",
       "      <td>2022-06-02</td>\n",
       "      <td>20000</td>\n",
       "    </tr>\n",
       "    <tr>\n",
       "      <th>2</th>\n",
       "      <td>400007915</td>\n",
       "      <td>нет просрочки</td>\n",
       "      <td>2022-06-02</td>\n",
       "      <td>2022-06-05</td>\n",
       "      <td>2022-06-21</td>\n",
       "      <td>5820</td>\n",
       "    </tr>\n",
       "    <tr>\n",
       "      <th>3</th>\n",
       "      <td>400008952</td>\n",
       "      <td>просрочка</td>\n",
       "      <td>2022-06-02</td>\n",
       "      <td>2022-06-03</td>\n",
       "      <td>2022-07-12</td>\n",
       "      <td>9000</td>\n",
       "    </tr>\n",
       "    <tr>\n",
       "      <th>4</th>\n",
       "      <td>400009027</td>\n",
       "      <td>просрочка</td>\n",
       "      <td>2022-06-02</td>\n",
       "      <td>2022-06-02</td>\n",
       "      <td>2022-06-22</td>\n",
       "      <td>5000</td>\n",
       "    </tr>\n",
       "    <tr>\n",
       "      <th>...</th>\n",
       "      <td>...</td>\n",
       "      <td>...</td>\n",
       "      <td>...</td>\n",
       "      <td>...</td>\n",
       "      <td>...</td>\n",
       "      <td>...</td>\n",
       "    </tr>\n",
       "    <tr>\n",
       "      <th>55743</th>\n",
       "      <td>495174013</td>\n",
       "      <td>нет просрочки</td>\n",
       "      <td>2022-08-31</td>\n",
       "      <td>2022-09-01</td>\n",
       "      <td>NaT</td>\n",
       "      <td>9500</td>\n",
       "    </tr>\n",
       "    <tr>\n",
       "      <th>55744</th>\n",
       "      <td>495174505</td>\n",
       "      <td>просрочка</td>\n",
       "      <td>2022-08-31</td>\n",
       "      <td>2022-09-05</td>\n",
       "      <td>2022-09-16</td>\n",
       "      <td>14930</td>\n",
       "    </tr>\n",
       "    <tr>\n",
       "      <th>55745</th>\n",
       "      <td>495175322</td>\n",
       "      <td>досрочное закрытие</td>\n",
       "      <td>2022-08-31</td>\n",
       "      <td>2022-09-01</td>\n",
       "      <td>2022-09-09</td>\n",
       "      <td>4000</td>\n",
       "    </tr>\n",
       "    <tr>\n",
       "      <th>55746</th>\n",
       "      <td>495176080</td>\n",
       "      <td>досрочное закрытие</td>\n",
       "      <td>2022-08-31</td>\n",
       "      <td>2022-08-31</td>\n",
       "      <td>2022-09-12</td>\n",
       "      <td>5000</td>\n",
       "    </tr>\n",
       "    <tr>\n",
       "      <th>55747</th>\n",
       "      <td>495177509</td>\n",
       "      <td>нет просрочки</td>\n",
       "      <td>2022-08-31</td>\n",
       "      <td>2022-09-01</td>\n",
       "      <td>NaT</td>\n",
       "      <td>27130</td>\n",
       "    </tr>\n",
       "  </tbody>\n",
       "</table>\n",
       "<p>55748 rows × 6 columns</p>\n",
       "</div>"
      ],
      "text/plain": [
       "        order_id             delayed created_at     put_at  closed_at  \\\n",
       "0      400001732       нет просрочки 2022-06-02 2022-06-02 2022-10-17   \n",
       "1      400005838  досрочное закрытие 2022-06-02 2022-06-02 2022-06-02   \n",
       "2      400007915       нет просрочки 2022-06-02 2022-06-05 2022-06-21   \n",
       "3      400008952           просрочка 2022-06-02 2022-06-03 2022-07-12   \n",
       "4      400009027           просрочка 2022-06-02 2022-06-02 2022-06-22   \n",
       "...          ...                 ...        ...        ...        ...   \n",
       "55743  495174013       нет просрочки 2022-08-31 2022-09-01        NaT   \n",
       "55744  495174505           просрочка 2022-08-31 2022-09-05 2022-09-16   \n",
       "55745  495175322  досрочное закрытие 2022-08-31 2022-09-01 2022-09-09   \n",
       "55746  495176080  досрочное закрытие 2022-08-31 2022-08-31 2022-09-12   \n",
       "55747  495177509       нет просрочки 2022-08-31 2022-09-01        NaT   \n",
       "\n",
       "       issued_sum  \n",
       "0           13600  \n",
       "1           20000  \n",
       "2            5820  \n",
       "3            9000  \n",
       "4            5000  \n",
       "...           ...  \n",
       "55743        9500  \n",
       "55744       14930  \n",
       "55745        4000  \n",
       "55746        5000  \n",
       "55747       27130  \n",
       "\n",
       "[55748 rows x 6 columns]"
      ]
     },
     "execution_count": 35,
     "metadata": {},
     "output_type": "execute_result"
    }
   ],
   "source": [
    "result_table"
   ]
  },
  {
   "cell_type": "markdown",
   "metadata": {},
   "source": [
    "Выделим дни и месяца из колонки Даты создания заявки."
   ]
  },
  {
   "cell_type": "code",
   "execution_count": 36,
   "metadata": {},
   "outputs": [],
   "source": [
    "result_table['created_month'] = pd.to_datetime(result_table['created_at']).dt.to_period('M')"
   ]
  },
  {
   "cell_type": "code",
   "execution_count": 37,
   "metadata": {},
   "outputs": [],
   "source": [
    "result_table['created_day'] = pd.to_datetime(result_table['created_at']).dt.to_period('d')"
   ]
  },
  {
   "cell_type": "code",
   "execution_count": 38,
   "metadata": {},
   "outputs": [
    {
     "data": {
      "text/html": [
       "<div>\n",
       "<style scoped>\n",
       "    .dataframe tbody tr th:only-of-type {\n",
       "        vertical-align: middle;\n",
       "    }\n",
       "\n",
       "    .dataframe tbody tr th {\n",
       "        vertical-align: top;\n",
       "    }\n",
       "\n",
       "    .dataframe thead th {\n",
       "        text-align: right;\n",
       "    }\n",
       "</style>\n",
       "<table border=\"1\" class=\"dataframe\">\n",
       "  <thead>\n",
       "    <tr style=\"text-align: right;\">\n",
       "      <th></th>\n",
       "      <th>order_id</th>\n",
       "      <th>delayed</th>\n",
       "      <th>created_at</th>\n",
       "      <th>put_at</th>\n",
       "      <th>closed_at</th>\n",
       "      <th>issued_sum</th>\n",
       "      <th>created_month</th>\n",
       "      <th>created_day</th>\n",
       "    </tr>\n",
       "  </thead>\n",
       "  <tbody>\n",
       "    <tr>\n",
       "      <th>0</th>\n",
       "      <td>400001732</td>\n",
       "      <td>нет просрочки</td>\n",
       "      <td>2022-06-02</td>\n",
       "      <td>2022-06-02</td>\n",
       "      <td>2022-10-17</td>\n",
       "      <td>13600</td>\n",
       "      <td>2022-06</td>\n",
       "      <td>2022-06-02</td>\n",
       "    </tr>\n",
       "    <tr>\n",
       "      <th>1</th>\n",
       "      <td>400005838</td>\n",
       "      <td>досрочное закрытие</td>\n",
       "      <td>2022-06-02</td>\n",
       "      <td>2022-06-02</td>\n",
       "      <td>2022-06-02</td>\n",
       "      <td>20000</td>\n",
       "      <td>2022-06</td>\n",
       "      <td>2022-06-02</td>\n",
       "    </tr>\n",
       "    <tr>\n",
       "      <th>2</th>\n",
       "      <td>400007915</td>\n",
       "      <td>нет просрочки</td>\n",
       "      <td>2022-06-02</td>\n",
       "      <td>2022-06-05</td>\n",
       "      <td>2022-06-21</td>\n",
       "      <td>5820</td>\n",
       "      <td>2022-06</td>\n",
       "      <td>2022-06-02</td>\n",
       "    </tr>\n",
       "    <tr>\n",
       "      <th>3</th>\n",
       "      <td>400008952</td>\n",
       "      <td>просрочка</td>\n",
       "      <td>2022-06-02</td>\n",
       "      <td>2022-06-03</td>\n",
       "      <td>2022-07-12</td>\n",
       "      <td>9000</td>\n",
       "      <td>2022-06</td>\n",
       "      <td>2022-06-02</td>\n",
       "    </tr>\n",
       "    <tr>\n",
       "      <th>4</th>\n",
       "      <td>400009027</td>\n",
       "      <td>просрочка</td>\n",
       "      <td>2022-06-02</td>\n",
       "      <td>2022-06-02</td>\n",
       "      <td>2022-06-22</td>\n",
       "      <td>5000</td>\n",
       "      <td>2022-06</td>\n",
       "      <td>2022-06-02</td>\n",
       "    </tr>\n",
       "    <tr>\n",
       "      <th>...</th>\n",
       "      <td>...</td>\n",
       "      <td>...</td>\n",
       "      <td>...</td>\n",
       "      <td>...</td>\n",
       "      <td>...</td>\n",
       "      <td>...</td>\n",
       "      <td>...</td>\n",
       "      <td>...</td>\n",
       "    </tr>\n",
       "    <tr>\n",
       "      <th>55743</th>\n",
       "      <td>495174013</td>\n",
       "      <td>нет просрочки</td>\n",
       "      <td>2022-08-31</td>\n",
       "      <td>2022-09-01</td>\n",
       "      <td>NaT</td>\n",
       "      <td>9500</td>\n",
       "      <td>2022-08</td>\n",
       "      <td>2022-08-31</td>\n",
       "    </tr>\n",
       "    <tr>\n",
       "      <th>55744</th>\n",
       "      <td>495174505</td>\n",
       "      <td>просрочка</td>\n",
       "      <td>2022-08-31</td>\n",
       "      <td>2022-09-05</td>\n",
       "      <td>2022-09-16</td>\n",
       "      <td>14930</td>\n",
       "      <td>2022-08</td>\n",
       "      <td>2022-08-31</td>\n",
       "    </tr>\n",
       "    <tr>\n",
       "      <th>55745</th>\n",
       "      <td>495175322</td>\n",
       "      <td>досрочное закрытие</td>\n",
       "      <td>2022-08-31</td>\n",
       "      <td>2022-09-01</td>\n",
       "      <td>2022-09-09</td>\n",
       "      <td>4000</td>\n",
       "      <td>2022-08</td>\n",
       "      <td>2022-08-31</td>\n",
       "    </tr>\n",
       "    <tr>\n",
       "      <th>55746</th>\n",
       "      <td>495176080</td>\n",
       "      <td>досрочное закрытие</td>\n",
       "      <td>2022-08-31</td>\n",
       "      <td>2022-08-31</td>\n",
       "      <td>2022-09-12</td>\n",
       "      <td>5000</td>\n",
       "      <td>2022-08</td>\n",
       "      <td>2022-08-31</td>\n",
       "    </tr>\n",
       "    <tr>\n",
       "      <th>55747</th>\n",
       "      <td>495177509</td>\n",
       "      <td>нет просрочки</td>\n",
       "      <td>2022-08-31</td>\n",
       "      <td>2022-09-01</td>\n",
       "      <td>NaT</td>\n",
       "      <td>27130</td>\n",
       "      <td>2022-08</td>\n",
       "      <td>2022-08-31</td>\n",
       "    </tr>\n",
       "  </tbody>\n",
       "</table>\n",
       "<p>55748 rows × 8 columns</p>\n",
       "</div>"
      ],
      "text/plain": [
       "        order_id             delayed created_at     put_at  closed_at  \\\n",
       "0      400001732       нет просрочки 2022-06-02 2022-06-02 2022-10-17   \n",
       "1      400005838  досрочное закрытие 2022-06-02 2022-06-02 2022-06-02   \n",
       "2      400007915       нет просрочки 2022-06-02 2022-06-05 2022-06-21   \n",
       "3      400008952           просрочка 2022-06-02 2022-06-03 2022-07-12   \n",
       "4      400009027           просрочка 2022-06-02 2022-06-02 2022-06-22   \n",
       "...          ...                 ...        ...        ...        ...   \n",
       "55743  495174013       нет просрочки 2022-08-31 2022-09-01        NaT   \n",
       "55744  495174505           просрочка 2022-08-31 2022-09-05 2022-09-16   \n",
       "55745  495175322  досрочное закрытие 2022-08-31 2022-09-01 2022-09-09   \n",
       "55746  495176080  досрочное закрытие 2022-08-31 2022-08-31 2022-09-12   \n",
       "55747  495177509       нет просрочки 2022-08-31 2022-09-01        NaT   \n",
       "\n",
       "       issued_sum created_month created_day  \n",
       "0           13600       2022-06  2022-06-02  \n",
       "1           20000       2022-06  2022-06-02  \n",
       "2            5820       2022-06  2022-06-02  \n",
       "3            9000       2022-06  2022-06-02  \n",
       "4            5000       2022-06  2022-06-02  \n",
       "...           ...           ...         ...  \n",
       "55743        9500       2022-08  2022-08-31  \n",
       "55744       14930       2022-08  2022-08-31  \n",
       "55745        4000       2022-08  2022-08-31  \n",
       "55746        5000       2022-08  2022-08-31  \n",
       "55747       27130       2022-08  2022-08-31  \n",
       "\n",
       "[55748 rows x 8 columns]"
      ]
     },
     "execution_count": 38,
     "metadata": {},
     "output_type": "execute_result"
    }
   ],
   "source": [
    "result_table"
   ]
  },
  {
   "cell_type": "markdown",
   "metadata": {},
   "source": [
    "Количество оформленных заявок на кредит по месяцам."
   ]
  },
  {
   "cell_type": "code",
   "execution_count": 39,
   "metadata": {},
   "outputs": [
    {
     "data": {
      "image/png": "[encoded data removed]",
      "text/plain": [
       "<Figure size 1200x500 with 1 Axes>"
      ]
     },
     "metadata": {},
     "output_type": "display_data"
    },
    {
     "data": {
      "text/html": [
       "<div>\n",
       "<style scoped>\n",
       "    .dataframe tbody tr th:only-of-type {\n",
       "        vertical-align: middle;\n",
       "    }\n",
       "\n",
       "    .dataframe tbody tr th {\n",
       "        vertical-align: top;\n",
       "    }\n",
       "\n",
       "    .dataframe thead th {\n",
       "        text-align: right;\n",
       "    }\n",
       "</style>\n",
       "<table border=\"1\" class=\"dataframe\">\n",
       "  <thead>\n",
       "    <tr style=\"text-align: right;\">\n",
       "      <th>delayed</th>\n",
       "      <th>досрочное закрытие</th>\n",
       "      <th>нет просрочки</th>\n",
       "      <th>просрочка</th>\n",
       "    </tr>\n",
       "    <tr>\n",
       "      <th>created_month</th>\n",
       "      <th></th>\n",
       "      <th></th>\n",
       "      <th></th>\n",
       "    </tr>\n",
       "  </thead>\n",
       "  <tbody>\n",
       "    <tr>\n",
       "      <th>2022-06</th>\n",
       "      <td>4782</td>\n",
       "      <td>9142</td>\n",
       "      <td>3579</td>\n",
       "    </tr>\n",
       "    <tr>\n",
       "      <th>2022-07</th>\n",
       "      <td>5337</td>\n",
       "      <td>9786</td>\n",
       "      <td>3897</td>\n",
       "    </tr>\n",
       "    <tr>\n",
       "      <th>2022-08</th>\n",
       "      <td>5368</td>\n",
       "      <td>9778</td>\n",
       "      <td>4079</td>\n",
       "    </tr>\n",
       "  </tbody>\n",
       "</table>\n",
       "</div>"
      ],
      "text/plain": [
       "delayed        досрочное закрытие  нет просрочки  просрочка\n",
       "created_month                                              \n",
       "2022-06                      4782           9142       3579\n",
       "2022-07                      5337           9786       3897\n",
       "2022-08                      5368           9778       4079"
      ]
     },
     "metadata": {},
     "output_type": "display_data"
    }
   ],
   "source": [
    "dinam_status = result_table.pivot_table(index='created_month', columns='delayed', values = 'order_id', aggfunc='count')\n",
    "dinam_status.plot( grid=True, figsize=(12, 5))\n",
    "plt.title('Динамика статусов кредитов по месяцам')\n",
    "plt.xlabel('Месяц выдачи')\n",
    "plt.ylabel('Количество выданных кредитов')\n",
    "plt.show()\n",
    "\n",
    "display(dinam_status)"
   ]
  },
  {
   "cell_type": "markdown",
   "metadata": {},
   "source": [
    "Средняя сумма полученных кредитов в разрезе по месяцам."
   ]
  },
  {
   "cell_type": "code",
   "execution_count": 40,
   "metadata": {},
   "outputs": [
    {
     "data": {
      "image/png": "[encoded data removed]",
      "text/plain": [
       "<Figure size 1200x500 with 1 Axes>"
      ]
     },
     "metadata": {},
     "output_type": "display_data"
    },
    {
     "data": {
      "text/html": [
       "<div>\n",
       "<style scoped>\n",
       "    .dataframe tbody tr th:only-of-type {\n",
       "        vertical-align: middle;\n",
       "    }\n",
       "\n",
       "    .dataframe tbody tr th {\n",
       "        vertical-align: top;\n",
       "    }\n",
       "\n",
       "    .dataframe thead th {\n",
       "        text-align: right;\n",
       "    }\n",
       "</style>\n",
       "<table border=\"1\" class=\"dataframe\">\n",
       "  <thead>\n",
       "    <tr style=\"text-align: right;\">\n",
       "      <th>delayed</th>\n",
       "      <th>досрочное закрытие</th>\n",
       "      <th>нет просрочки</th>\n",
       "      <th>просрочка</th>\n",
       "    </tr>\n",
       "    <tr>\n",
       "      <th>created_month</th>\n",
       "      <th></th>\n",
       "      <th></th>\n",
       "      <th></th>\n",
       "    </tr>\n",
       "  </thead>\n",
       "  <tbody>\n",
       "    <tr>\n",
       "      <th>2022-06</th>\n",
       "      <td>7458.176495</td>\n",
       "      <td>8316.325749</td>\n",
       "      <td>7096.862252</td>\n",
       "    </tr>\n",
       "    <tr>\n",
       "      <th>2022-07</th>\n",
       "      <td>7483.455125</td>\n",
       "      <td>8393.120785</td>\n",
       "      <td>7325.134719</td>\n",
       "    </tr>\n",
       "    <tr>\n",
       "      <th>2022-08</th>\n",
       "      <td>7477.324888</td>\n",
       "      <td>8502.310288</td>\n",
       "      <td>7311.591076</td>\n",
       "    </tr>\n",
       "  </tbody>\n",
       "</table>\n",
       "</div>"
      ],
      "text/plain": [
       "delayed        досрочное закрытие  нет просрочки    просрочка\n",
       "created_month                                                \n",
       "2022-06               7458.176495    8316.325749  7096.862252\n",
       "2022-07               7483.455125    8393.120785  7325.134719\n",
       "2022-08               7477.324888    8502.310288  7311.591076"
      ]
     },
     "metadata": {},
     "output_type": "display_data"
    }
   ],
   "source": [
    "issum = result_table.pivot_table(index='created_month', columns='delayed', values = 'issued_sum', aggfunc='mean')\n",
    "issum.plot( grid=True, figsize=(12, 5))\n",
    "plt.title('Средняя сумма кредита по месяцам')\n",
    "plt.xlabel('Месяц подачи заявки')\n",
    "plt.ylabel('Средняя сумма подачи заявки')\n",
    "plt.show()\n",
    "\n",
    "display(issum)"
   ]
  },
  {
   "cell_type": "markdown",
   "metadata": {},
   "source": [
    "График распределения категории клиентов которые допустили просрочку платежа в процентном соотношении."
   ]
  },
  {
   "cell_type": "code",
   "execution_count": 41,
   "metadata": {},
   "outputs": [
    {
     "data": {
      "image/png": "[encoded data removed]",
      "text/plain": [
       "<Figure size 800x500 with 1 Axes>"
      ]
     },
     "metadata": {},
     "output_type": "display_data"
    }
   ],
   "source": [
    "plt.figure(figsize=(8, 5))\n",
    "result_table.groupby(['delayed'])['order_id'].count().plot(kind='pie', autopct='%.0f%%')\n",
    "plt.title('Процент просрочки по плановым платежам')\n",
    "plt.xticks(rotation=0)\n",
    "plt.grid(axis='y')\n",
    "\n",
    "plt.tight_layout()\n",
    "plt.show()"
   ]
  },
  {
   "cell_type": "markdown",
   "metadata": {},
   "source": []
  },
  {
   "cell_type": "code",
   "execution_count": null,
   "metadata": {},
   "outputs": [],
   "source": []
  },
  {
   "cell_type": "markdown",
   "metadata": {},
   "source": [
    "### Вывод\n",
    "\n",
    "В ходе работы провели загрузку и предварительный анализ датасетов. Произвели предобработку - удалили дубликаты, работа с типом данных.  Объединили датасеты по ключу, выделили основные категории клиентов: 1) допустили просрочку, 2) закрыли договор досрочно, 3) не допускали просрочки.\n",
    "\n",
    "На основе произведенного анализа поведения клиентов в отношении просрочек платежей можно сделать следующие выводы:\n",
    "\n",
    "Процент просрочки плановых платежей - 21%. Но наблюдатся заявки, по которым клиенты закрывают долги досрочно - 28%. Остальная часть плтатит задолженность, согласно календарю плановых платежей.\n",
    "\n",
    "Кредиты полученные на большую сумму клиенты стараются не допускать задержку планового платежа, скорее всего из-за процентов. Средняя сумма таких заявок от 8000р.\n",
    "Чего нельзя сказать о заявках на кредиты на меньшу сумму, до 7400р.\n",
    "\n",
    "Был выделен тип клиентов, которые закрывали договор досрочно. Сумма таких договоров в среднем находилась на уровне 7,5 т.р.\n",
    "\n",
    "Видна положительная динамика на количество оформленных заявок на кредит. Причем наблюдается так же и небольшой рост количества заявок клиентам, которые в процессе выплат допустили просрочку платежа - не успели внести денежные средства вовремя на счет в необходимом количестве. Так же если смотреть со стороны средних сумм одобренных и полученных денежных средств, то здесь видим явных подьем в период с июня по июль.\n",
    "\n",
    "\n",
    "Для возможности произвести более детальный анализ, необходимо больше данных о клиентах.\n"
   ]
  },
  {
   "cell_type": "code",
   "execution_count": null,
   "metadata": {},
   "outputs": [],
   "source": []
  },
  {
   "cell_type": "code",
   "execution_count": null,
   "metadata": {},
   "outputs": [],
   "source": []
  }
 ],
 "metadata": {
  "kernelspec": {
   "display_name": "Python 3",
   "language": "python",
   "name": "python3"
  },
  "language_info": {
   "codemirror_mode": {
    "name": "ipython",
    "version": 3
   },
   "file_extension": ".py",
   "mimetype": "text/x-python",
   "name": "python",
   "nbconvert_exporter": "python",
   "pygments_lexer": "ipython3",
   "version": "3.13.2"
  }
 },
 "nbformat": 4,
 "nbformat_minor": 2
}
